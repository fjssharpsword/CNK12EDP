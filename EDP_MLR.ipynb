{
 "cells": [
  {
   "cell_type": "code",
   "execution_count": null,
   "metadata": {},
   "outputs": [],
   "source": [
    "import theano\n",
    "import pymc3 as pm\n",
    "from sklearn.cross_validation import train_test_split\n",
    "from theano import shared\n",
    "import pandas as pd\n",
    "#1.加载训练文件\n",
    "data = pd.read_csv(\"/data/fjs/data/math/mathV.csv\",sep='|') \n",
    "data = data.fillna(0)#填补空值为零\n",
    "print (data.shape)\n",
    "#2.构造训练集和测试集\n",
    "X_train, X_test, Y_train, Y_test = train_test_split(data.drop(columns=['quid','qdiff']), data[['qdiff']], test_size=.2)#8成训练，2成测试\n",
    "#3.构造贝叶斯线性回归模型\n",
    "X_input = theano.shared(X_train.values)#转numpy array\n",
    "Y_output = theano.shared(Y_train.values)#转numpy array\n",
    "#print (X_input.get_value())\n",
    "def fn_mullist(X,b):\n",
    "    X_C = []\n",
    "    for i in range(X_train.shape[1]):\n",
    "        X_C=X[:,i]*b[i]\n",
    "    return X_C\n",
    "\n",
    "with pm.Model() as EDP_model:\n",
    "    alpha=pm.Normal('alpha',mu=3,sd=1)#习题难度系数3作为均值\n",
    "    beta=pm.Normal('beta',mu=3,sd=1,shape=X_train.shape[1])#3列\n",
    "    sigma=pm.HalfNormal('sigma',sd=1)\n",
    "    \n",
    "    mu=alpha+ fn_mullist(X_input.get_value(),beta) #线性回归模型\n",
    " \n",
    "    Y_obs=pm.Normal('Y_obs',mu=mu,sd=sigma,observed=Y_output.get_value())\n",
    "#4.基于NUTS采样\n",
    "with EDP_model:\n",
    "    step = pm.NUTS()#step = pm.Metropolis()\n",
    "    trace = pm.sample(1000,step=step)#4chains,25万/chain，共100万\n",
    "#5.测试集验证\n",
    "X_input.set_value(X_test.values)\n",
    "Y_output.set_value(Y_test.values)\n",
    "with EDP_model:\n",
    "    ppc = pm.sample_posterior_predictive(trace, samples=500, progressbar=False) \n",
    "pred = ppc['Y_obs'].mean(axis=0) #预测值\n",
    "#6.评价指标\n",
    "pred =pd.DataFrame(pred,columns=['Y_obs'])\n",
    "def fn_typeOf(x):\n",
    "    m=6\n",
    "    n=0\n",
    "    for i in range(6):\n",
    "        if abs(x-i)<m:n=i\n",
    "    return n\n",
    "pred['Y_obs'] = pred['Y_obs'].apply(lambda x: fn_typeOf(x))\n",
    "pred=pred['Y_obs'].tolist()\n",
    "print('Accuracy = {}%'.format((Y_test == pred).mean() * 100))"
   ]
  },
  {
   "cell_type": "code",
   "execution_count": null,
   "metadata": {},
   "outputs": [],
   "source": [
    "import theano\n",
    "import pymc3 as pm\n",
    "from sklearn.cross_validation import train_test_split\n",
    "from theano import shared\n",
    "import pandas as pd\n",
    "#1.加载训练文件\n",
    "data = pd.read_csv(\"/data/fjs/data/math/mathV.csv\",sep='|') \n",
    "data = data.fillna(0)#填补空值为零\n",
    "print (data.shape)\n",
    "#2.构造训练集和测试集\n",
    "X_train, X_test, Y_train, Y_test = train_test_split(data.drop(columns=['quid','qdiff']), data[['qdiff']], test_size=.2)#8成训练，2成测试\n",
    "#3."
   ]
  }
 ],
 "metadata": {
  "kernelspec": {
   "display_name": "Python 3",
   "language": "python",
   "name": "python3"
  },
  "language_info": {
   "codemirror_mode": {
    "name": "ipython",
    "version": 3
   },
   "file_extension": ".py",
   "mimetype": "text/x-python",
   "name": "python",
   "nbconvert_exporter": "python",
   "pygments_lexer": "ipython3",
   "version": "3.5.2"
  }
 },
 "nbformat": 4,
 "nbformat_minor": 2
}
