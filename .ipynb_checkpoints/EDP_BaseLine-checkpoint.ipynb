{
 "cells": [
  {
   "cell_type": "code",
   "execution_count": 9,
   "metadata": {},
   "outputs": [
    {
     "name": "stderr",
     "output_type": "stream",
     "text": [
      "Multiprocess sampling (4 chains in 4 jobs)\n",
      "NUTS: [sigma, beta, alpha]\n",
      "Sampling 4 chains: 100%|██████████| 6000/6000 [00:05<00:00, 1167.31draws/s]\n"
     ]
    },
    {
     "name": "stdout",
     "output_type": "stream",
     "text": [
      "Accuracy = 0.0%\n",
      "[-0.31298228 -0.7771232   1.60688988  1.81155645  1.33229397 -0.04769617\n",
      " -0.54223379  2.61698276 -2.49102525  0.16718957 -0.30445434  1.02902152\n",
      " -0.61907845  2.45292174 -0.07403359 -0.67787889  0.97990647 -0.12744808\n",
      " -0.84723319 -1.75561976]\n"
     ]
    }
   ],
   "source": [
    "import theano\n",
    "import pymc3 as pm\n",
    "from sklearn.cross_validation import train_test_split\n",
    "# Use a theano shared variable to be able to exchange the data the model runs on\n",
    "from theano import shared\n",
    "import numpy as np\n",
    "import pandas as pd\n",
    "#构造数据集\n",
    "np.random.seed(123)\n",
    "alpha=1\n",
    "sigma=1\n",
    "beta =[1, 2.5]\n",
    "N=100\n",
    "X=np.random.randn(N,2)\n",
    "Y=alpha + X[:,0]*beta[0]+X[:,1]*beta[1] + np.random.randn(N)*sigma\n",
    "X_train, X_test, Y_train, Y_test = train_test_split(X, Y, test_size=.2)#8成训练，2成测试\n",
    "#4.2.构造贝叶斯线性回归模型\n",
    "X_input = theano.shared(X_train)\n",
    "Y_output = theano.shared(Y_train)\n",
    "def fn_mullist(X,b):\n",
    "    X_C = []\n",
    "    for i in range(2):\n",
    "        X_C=X[:,i]*b[i]\n",
    "    return X_C\n",
    "    \n",
    "with pm.Model() as EDP_model:\n",
    "    alpha=pm.Normal('alpha',mu=3,sd=1)#习题难度系数3作为均值\n",
    "    beta=pm.Normal('beta',mu=3,sd=1,shape=2)#列，3584个beta\n",
    "    sigma=pm.HalfNormal('sigma',sd=1)\n",
    "    \n",
    "    #mu=alpha+X_input[:,0]*beta[0]+X_input[:,1]*beta[1]  #线性回归模型\n",
    "    mu=alpha+fn_mullist(X_input,beta)\n",
    "    Y_obs=pm.Normal('Y_obs',mu=mu,sd=sigma,observed=Y_output)\n",
    "#4.3.基于NUTS采样\n",
    "with EDP_model:\n",
    "    step = pm.NUTS()#step = pm.Metropolis()\n",
    "    trace = pm.sample(1000,step=step)#4chains,25万/chain，共100万\n",
    "pm.summary(trace)#后验统计总结\n",
    "#4.4 测试集验证\n",
    "X_input.set_value(X_test)\n",
    "Y_output.set_value(Y_test)\n",
    "with EDP_model:\n",
    "    ppc = pm.sample_posterior_predictive(trace, samples=500, progressbar=False) \n",
    "pred = ppc['Y_obs'].mean(axis=0) #预测值\n",
    "print('Accuracy = {}%'.format((Y_test == pred).mean() * 100))\n",
    "print (Y_test-pred)"
   ]
  },
  {
   "cell_type": "code",
   "execution_count": 8,
   "metadata": {},
   "outputs": [
    {
     "name": "stdout",
     "output_type": "stream",
     "text": [
      "(650901, 3586)\n"
     ]
    },
    {
     "name": "stderr",
     "output_type": "stream",
     "text": [
      "/usr/local/lib/python3.5/dist-packages/sklearn/utils/validation.py:578: DataConversionWarning: A column-vector y was passed when a 1d array was expected. Please change the shape of y to (n_samples, ), for example using ravel().\n",
      "  y = column_or_1d(y, warn=True)\n"
     ]
    },
    {
     "name": "stdout",
     "output_type": "stream",
     "text": [
      "测试集准确率：0.820473\n"
     ]
    }
   ],
   "source": [
    "import pandas as pd\n",
    "import numpy as np\n",
    "from sklearn.cross_validation import train_test_split\n",
    "from sklearn.linear_model import LogisticRegression\n",
    "from sklearn.metrics import accuracy_score\n",
    "#1.加载训练文件\n",
    "data = pd.read_csv(\"/data/fjs/data/math/mathV.csv\",sep='|') \n",
    "#data = data.dropna(axis=0,how='any')\n",
    "data = data.fillna(0)#填补空值为零\n",
    "print (data.shape)\n",
    "#2.构造训练集和测试集\n",
    "X_train, X_test, Y_train, Y_test = train_test_split(data.drop(columns=['quid','qdiff']), data[['qdiff']], test_size=.2)#8成训练，2成测试\n",
    "#3.lr多分类\n",
    "clf = LogisticRegression(penalty='l2',random_state=0, solver='lbfgs', multi_class='multinomial').fit(X_train,Y_train)\n",
    "#4.预测\n",
    "Y_pred= clf.predict(X_test)\n",
    "print ('测试集准确率：%f'% accuracy_score(Y_test, Y_pred))"
   ]
  },
  {
   "cell_type": "code",
   "execution_count": 2,
   "metadata": {},
   "outputs": [
    {
     "name": "stdout",
     "output_type": "stream",
     "text": [
      "(650901, 3586)\n",
      "测试集准确率：0.818714\n"
     ]
    }
   ],
   "source": [
    "import pandas as pd\n",
    "import numpy as np\n",
    "from sklearn.cross_validation import train_test_split\n",
    "from sklearn.tree import DecisionTreeClassifier\n",
    "from sklearn.metrics import accuracy_score\n",
    "#1.加载训练文件\n",
    "data = pd.read_csv(\"/data/fjs/data/math/mathV.csv\",sep='|') \n",
    "#data = data.dropna(axis=0,how='any')\n",
    "data = data.fillna(0)#填补空值为零\n",
    "print (data.shape)\n",
    "#2.构造训练集和测试集\n",
    "X_train, X_test, Y_train, Y_test = train_test_split(data.drop(columns=['quid','qdiff']), data[['qdiff']], test_size=.2)#8成训练，2成测试\n",
    "#3.决策树分类\n",
    "clf = DecisionTreeClassifier().fit(X_train,Y_train)\n",
    "#4.预测\n",
    "Y_pred= clf.predict(X_test)\n",
    "print ('测试集准确率：%f'% accuracy_score(Y_test, Y_pred))"
   ]
  },
  {
   "cell_type": "code",
   "execution_count": null,
   "metadata": {},
   "outputs": [],
   "source": [
    "import pandas as pd\n",
    "import numpy as np\n",
    "from sklearn.cross_validation import train_test_split\n",
    "from lightgbm import LGBMClassifier\n",
    "from sklearn.metrics import accuracy_score\n",
    "#1.加载训练文件\n",
    "data = pd.read_csv(\"/data/fjs/data/math/mathV.csv\",sep='|') \n",
    "#data = data.dropna(axis=0,how='any')\n",
    "data = data.fillna(0)#填补空值为零\n",
    "print (data.shape)\n",
    "#2.构造训练集和测试集\n",
    "X_train, X_test, Y_train, Y_test = train_test_split(data.drop(columns=['quid','qdiff']), data[['qdiff']], test_size=.2)#8成训练，2成测试\n",
    "#3.决策树分类\n",
    "clf = LGBMClassifier(objective='multiclass', random_state=5).fit(X_train,Y_train)\n",
    "#4.预测\n",
    "Y_pred= clf.predict(X_test)\n",
    "print ('测试集准确率：%f'% accuracy_score(Y_test, Y_pred))"
   ]
  }
 ],
 "metadata": {
  "kernelspec": {
   "display_name": "Python 3",
   "language": "python",
   "name": "python3"
  },
  "language_info": {
   "codemirror_mode": {
    "name": "ipython",
    "version": 3
   },
   "file_extension": ".py",
   "mimetype": "text/x-python",
   "name": "python",
   "nbconvert_exporter": "python",
   "pygments_lexer": "ipython3",
   "version": "3.5.2"
  }
 },
 "nbformat": 4,
 "nbformat_minor": 2
}
