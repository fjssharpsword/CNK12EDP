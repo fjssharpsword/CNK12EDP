{
 "cells": [
  {
   "cell_type": "code",
   "execution_count": 6,
   "metadata": {},
   "outputs": [
    {
     "name": "stdout",
     "output_type": "stream",
     "text": [
      "Start extract feature of pictures.\n"
     ]
    },
    {
     "name": "stderr",
     "output_type": "stream",
     "text": [
      "/usr/local/lib/python3.5/dist-packages/torchvision-0.2.1-py3.5.egg/torchvision/transforms/transforms.py:200: UserWarning: The use of the transforms.Scale transform is deprecated, please use transforms.Resize instead.\n"
     ]
    },
    {
     "name": "stdout",
     "output_type": "stream",
     "text": [
      "0\n"
     ]
    },
    {
     "name": "stderr",
     "output_type": "stream",
     "text": [
      "/usr/local/lib/python3.5/dist-packages/ipykernel_launcher.py:33: UserWarning: nn.init.eye is now deprecated in favor of nn.init.eye_.\n"
     ]
    },
    {
     "ename": "IndexError",
     "evalue": "list index out of range",
     "output_type": "error",
     "traceback": [
      "\u001b[0;31m---------------------------------------------------------------------------\u001b[0m",
      "\u001b[0;31mIndexError\u001b[0m                                Traceback (most recent call last)",
      "\u001b[0;32m<ipython-input-6-abd2f5634a9b>\u001b[0m in \u001b[0;36m<module>\u001b[0;34m()\u001b[0m\n\u001b[1;32m     49\u001b[0m     \u001b[0mprint\u001b[0m \u001b[0;34m(\u001b[0m\u001b[0mlen\u001b[0m\u001b[0;34m(\u001b[0m\u001b[0mimages\u001b[0m\u001b[0;34m)\u001b[0m\u001b[0;34m)\u001b[0m\u001b[0;34m\u001b[0m\u001b[0m\n\u001b[1;32m     50\u001b[0m     \u001b[0;31m#多图拼接成一张长图\u001b[0m\u001b[0;34m\u001b[0m\u001b[0;34m\u001b[0m\u001b[0m\n\u001b[0;32m---> 51\u001b[0;31m     \u001b[0mwidth\u001b[0m\u001b[0;34m,\u001b[0m\u001b[0mheight\u001b[0m\u001b[0;34m=\u001b[0m\u001b[0mimages\u001b[0m\u001b[0;34m[\u001b[0m\u001b[0;36m0\u001b[0m\u001b[0;34m]\u001b[0m\u001b[0;34m.\u001b[0m\u001b[0msize\u001b[0m\u001b[0;34m\u001b[0m\u001b[0m\n\u001b[0m\u001b[1;32m     52\u001b[0m     \u001b[0;32mfor\u001b[0m \u001b[0mimage\u001b[0m \u001b[0;32min\u001b[0m \u001b[0mimages\u001b[0m\u001b[0;34m:\u001b[0m\u001b[0;34m\u001b[0m\u001b[0m\n\u001b[1;32m     53\u001b[0m         \u001b[0mw\u001b[0m\u001b[0;34m,\u001b[0m\u001b[0mh\u001b[0m \u001b[0;34m=\u001b[0m \u001b[0mimage\u001b[0m\u001b[0;34m.\u001b[0m\u001b[0msize\u001b[0m\u001b[0;34m\u001b[0m\u001b[0m\n",
      "\u001b[0;31mIndexError\u001b[0m: list index out of range"
     ]
    }
   ],
   "source": [
    "import os.path\n",
    "import json\n",
    "import torch\n",
    "import torch.nn as nn\n",
    "from torchvision import models, transforms\n",
    "from torch.autograd import Variable  \n",
    "import matplotlib.pyplot as plt\n",
    "import numpy as np\n",
    "from PIL import Image  \n",
    "import ftplib\n",
    "\n",
    "f = ftplib.FTP(\"10.21.3.24\")  # 实例化FTP对象\n",
    "f.login(\"ftpuser\", \"dm2019\")  # 登录\n",
    "def ftp_download(remotename,localname):\n",
    "    bufsize = 1024  # 设置缓冲器大小\n",
    "    fp = open(localname, 'wb')\n",
    "    f.retrbinary('RETR %s' % remotename, fp.write, bufsize)\n",
    "    fp.close()\n",
    "#img_path = \"/data/fjs/edp/ggicon.png\"\n",
    "#file_name = img_path.split('/')[-1]\n",
    "#feature_path = os.path.join(features_dir, file_name + '.txt')\n",
    "IoVItems=[]#list保存图像向量化后的记录\n",
    "with open(\"/data/fjs/data/math/math.json\",'r') as load_f:\n",
    "    items = json.load(load_f)#list中条目是dict\n",
    "#resnet50提取图像特征\n",
    "print (\"Start extract feature of pictures.\")\n",
    "transform1 = transforms.Compose([\n",
    "        transforms.Scale(256),\n",
    "        transforms.CenterCrop(224),\n",
    "        transforms.ToTensor()])\n",
    "resnet50_feature_extractor = models.resnet50(pretrained = True)\n",
    "resnet50_feature_extractor.fc = nn.Linear(2048, 2048)\n",
    "torch.nn.init.eye(resnet50_feature_extractor.fc.weight)\n",
    "for param in resnet50_feature_extractor.parameters():\n",
    "    param.requires_grad = False\n",
    "for item in items:\n",
    "    IoVItem={}#dict\n",
    "    IoVItem['quid']=item['quid']\n",
    "    IoVItem['qdiff']=item['qdiff']\n",
    "    IoVItem['qtext']=item['qtext']\n",
    "    IoVItem['qklg']=item['qklg']\n",
    "    images=[]\n",
    "    for imgftppath in item['qimage']:\n",
    "        imgftppath = imgftppath[17:]#截掉ftp://10.21.3.24/\n",
    "        imglocalpath = \"/data/fjs/data/imgs/\"+imgftppath.split(\"/\")[-1]\n",
    "        ftp_download(imgftppath,imglocalpath)#从ftp下载到本地\n",
    "        image = Image.open(imglocalpath)#打开本地图片\n",
    "        images.append(image)\n",
    "    #多图拼接成一张长图\n",
    "    if len(images)==0:\n",
    "        IoVItem['qimage']=np.zeros(2048)\n",
    "        print (IoVItem['qimage'])\n",
    "    else:\n",
    "        width,height=images[0].size\n",
    "        for image in images:\n",
    "            w,h = image.size\n",
    "            if w>width:width=w\n",
    "            if h>height: height=h\n",
    "        longImg =  Image.new(images[0].mode,(width,height*len(images)))\n",
    "        for i,im in enumerate(images):\n",
    "            longImg.paste(im,box=(0,i*height))\n",
    "        plt.imshow(longImg)\n",
    "        plt.show()\n",
    "        #长图向量化    \n",
    "        imgarr = np.array(longImg)\n",
    "        if imgarr.shape[2] == 4: #四通道转为三通道\n",
    "            img1 = img.convert(\"RGB\")\n",
    "        #img = Image.fromarray(img.astype('uint8')).convert('RGB')\n",
    "        img2 = transform1(img1)\n",
    "        x = Variable(torch.unsqueeze(img2, dim=0).float(), requires_grad=False)\n",
    "        y = resnet50_feature_extractor(x)\n",
    "        y = y.data.numpy()\n",
    "        print (y.shape)\n",
    "        IoVItem['qimage']= y\n",
    "    \n",
    "    IoVItems.append(IoVItem)\n",
    "f.quit()"
   ]
  },
  {
   "cell_type": "code",
   "execution_count": null,
   "metadata": {},
   "outputs": [],
   "source": []
  }
 ],
 "metadata": {
  "kernelspec": {
   "display_name": "Python 3",
   "language": "python",
   "name": "python3"
  },
  "language_info": {
   "codemirror_mode": {
    "name": "ipython",
    "version": 3
   },
   "file_extension": ".py",
   "mimetype": "text/x-python",
   "name": "python",
   "nbconvert_exporter": "python",
   "pygments_lexer": "ipython3",
   "version": "3.5.2"
  }
 },
 "nbformat": 4,
 "nbformat_minor": 2
}
