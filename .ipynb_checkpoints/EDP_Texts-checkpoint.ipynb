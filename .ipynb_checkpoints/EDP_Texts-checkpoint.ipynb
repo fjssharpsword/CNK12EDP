{
 "cells": [
  {
   "cell_type": "code",
   "execution_count": 2,
   "metadata": {},
   "outputs": [
    {
     "name": "stdout",
     "output_type": "stream",
     "text": [
      "768\n",
      "0.37245098\n"
     ]
    },
    {
     "name": "stderr",
     "output_type": "stream",
     "text": [
      "/home/fjs/.local/lib/python3.5/site-packages/bert_serving/client/__init__.py:277: UserWarning: server does not put a restriction on \"max_seq_len\", it will determine \"max_seq_len\" dynamically according to the sequences in the batch. you can restrict the sequence length on the client side for better efficiency\n",
      "  warnings.warn('server does not put a restriction on \"max_seq_len\", '\n"
     ]
    }
   ],
   "source": [
    "from bert_serving.client import BertClient\n",
    "#from bert_serving.server.helper import get_args_parser\n",
    "#from bert_serving.server import BertServer\n",
    "#args = get_args_parser().parse_args(['-model_dir', '/data/fjs/edp/chinese_L-12_H-768_A-12/',\n",
    "#                                     '-port', '5555',\n",
    "#                                     '-port_out', '5556',\n",
    "#                                     '-max_seq_len', None,\n",
    "#                                     '-num_worker','4'])\n",
    "#server = BertServer(args)\n",
    "#server.start()\n",
    "bc = BertClient()\n",
    "vec=bc.encode(['First do it', 'then do it right', 'then do it better'])\n",
    "print (len(vec[0]))\n",
    "print ((vec[1][0]))\n",
    "#BertServer.shutdown(port=5555)"
   ]
  },
  {
   "cell_type": "code",
   "execution_count": null,
   "metadata": {},
   "outputs": [
    {
     "name": "stdout",
     "output_type": "stream",
     "text": [
      "Start Embedding Texts and Concetps.\n"
     ]
    },
    {
     "name": "stderr",
     "output_type": "stream",
     "text": [
      "/home/fjs/.local/lib/python3.5/site-packages/bert_serving/client/__init__.py:277: UserWarning: server does not put a restriction on \"max_seq_len\", it will determine \"max_seq_len\" dynamically according to the sequences in the batch. you can restrict the sequence length on the client side for better efficiency\n",
      "  warnings.warn('server does not put a restriction on \"max_seq_len\", '\n"
     ]
    }
   ],
   "source": [
    "from itertools import compress\n",
    "import pandas as pd\n",
    "from operator import itemgetter\n",
    "from itertools import groupby\n",
    "import json\n",
    "from bert_serving.client import BertClient\n",
    "\n",
    "#第一步：提取所有数学的文本作为语料，暂略\n",
    "#第二步：基于语料微调预训练好的BERT中文模型，暂略\n",
    "#第三步：基于微调后的BERT中文模型Embedding texts and concepts\n",
    "ToVItems=[]#list保存文本向量化后的记录\n",
    "#3.1 加载训练文件\n",
    "with open(\"/data/fjs/data/math/math.json\",'r') as load_f:\n",
    "    items = json.load(load_f)#list中条目是dict\n",
    "#3.2 Embedding题干和知识点，先启动BERT Server，设置字符长度为1024\n",
    "#bert-serving-start -model_dir /data/fjs/edp/chinese_L-12_H-768_A-12/ -num_worker=8 -max_seq_len=None\n",
    "print (\"Start Embedding Texts and Concetps.\")\n",
    "for item in items:\n",
    "    ToVItem={}#dict\n",
    "    ToVItem['quid']=item['quid']\n",
    "    ToVItem['qdiff']=item['qdiff']\n",
    "    ToVItem['qimage']=item['qimage']\n",
    "    texts=item['qtext']#list\n",
    "    strtext=''\n",
    "    for text in texts:\n",
    "        strtext=strtext+text\n",
    "    concepts=item['qklg']\n",
    "    bc = BertClient()#连接BERT Server\n",
    "    ToVItem['qtext']=bc.encode([strtext])[0]#list\n",
    "    ToVItem['qklg']=bc.encode([concepts])[0]#list\n",
    "    ToVItems.append(ToVItem)\n",
    "#3.3保存题干和知识点embedding向量\n",
    "print (len(ToVItems))#总长度\n",
    "with open(\"/data/fjs/data/math/mathToV.json\",\"w\") as dump_f:\n",
    "    json.dump(ToVItems,dump_f)#保存到json文件\n",
    "    print(\"Texts and Concepts embedding completed.\")"
   ]
  },
  {
   "cell_type": "code",
   "execution_count": null,
   "metadata": {},
   "outputs": [],
   "source": []
  }
 ],
 "metadata": {
  "kernelspec": {
   "display_name": "Python 3",
   "language": "python",
   "name": "python3"
  }
 },
 "nbformat": 4,
 "nbformat_minor": 2
}
